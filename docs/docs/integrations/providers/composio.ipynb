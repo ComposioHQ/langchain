{
 "cells": [
  {
   "cell_type": "markdown",
   "metadata": {},
   "source": [
    "---\n",
    "sidebar_label: Composio\n",
    "---\n",
    "\n",
    "# Composio\n",
    "\n",
    "[Composio](https://composio.dev/) enables your AI agents to connect with 3000+ external applications and services through a unified interface.\n",
    "\n",
    "> Composio is the fastest way to enable your AI agents to take real-world actions—without dealing with individual API integrations, authentication flows, or complex tool formatting.\n",
    "> \n",
    "> * **Access 3000+ tools** out of the box across popular apps like Slack, GitHub, Notion, and more.\n",
    "> * **Enforce strict access and data controls** with fine-grained permissions for each tool and user.\n",
    "> * **Trigger agents and workflows** using external events (e.g., new message in Slack, new issue in GitHub).\n",
    "> * **Customize tools** for your proprietary APIs or internal functions via modifiers.\n",
    "> * **Integrate seamlessly** with frameworks like OpenAI, Anthropic, LangChain, Vercel AI SDK, and more.\n",
    "> * **Enhance reliability** with input/output processing hooks to clean or transform data on the fly.\n",
    ">\n",
    "> No more writing dozens of bespoke integrations. Composio handles auth, tool normalization, and execution—so your agents can focus on reasoning, not plumbing.\n",
    "\n",
    "## Setup\n",
    "\n",
    "Install the integration package:\n",
    "\n",
    "```bash\n",
    "pip install composio_langchain\n",
    "```\n",
    "\n",
    "Get a Composio API key from [platform.composio.dev](https://platform.composio.dev) and set it as an environment variable (`COMPOSIO_API_KEY`).\n",
    "\n",
    "## Invocation\n",
    "\n",
    "See a [usage example](/docs/integrations/tools/composio).\n",
    "\n",
    "```python\n",
    "from composio_langchain import ComposioToolSet\n",
    "\n",
    "toolset = ComposioToolSet()\n",
    "tools = toolset.get_tools(toolkits=[\"GITHUB\"])\n",
    "```\n",
    "\n",
    "## Available Integrations\n",
    "\n",
    "Composio provides access to 3000+ tools across popular applications including:\n",
    "\n",
    "- **Communication:** Gmail, Slack, Discord, Microsoft Teams\n",
    "- **Development:** GitHub, GitLab, Jira, Linear  \n",
    "- **Productivity:** Notion, Airtable, Google Workspace, Microsoft 365\n",
    "- **CRM:** Salesforce, HubSpot, Pipedrive\n",
    "- **Finance:** Stripe, QuickBooks\n",
    "- **News & Data:** Hacker News, Reddit\n",
    "- **And many more...**\n",
    "\n",
    "## API reference\n",
    "\n",
    "For a complete list of supported applications, visit the [Composio documentation](https://docs.composio.dev/toolkits/introduction)."
   ]
  }
 ],
 "metadata": {
  "colab": {
   "provenance": []
  },
  "kernelspec": {
   "display_name": "Python 3 (ipykernel)",
   "language": "python",
   "name": "python3"
  },
  "language_info": {
   "codemirror_mode": {
    "name": "ipython",
    "version": 3
   },
   "file_extension": ".py",
   "mimetype": "text/x-python",
   "name": "python",
   "nbconvert_exporter": "python",
   "pygments_lexer": "ipython3",
   "version": "3.10.11"
  }
 },
 "nbformat": 4,
 "nbformat_minor": 1
}
