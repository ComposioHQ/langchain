{
 "cells": [
  {
   "cell_type": "raw",
   "id": "afaf8039",
   "metadata": {},
   "source": [
    "---\n",
    "sidebar_label: Composio\n",
    "---"
   ]
  },
  {
   "cell_type": "markdown",
   "id": "3e9b6e78",
   "metadata": {},
   "source": [
    "This will help you get started with the Composio. Composio enables your AI agents and LLMs to connect with 100+ external applications and services through a unified interface. For detailed documentation of all features and configurations, head to the [Composio Docs](https://docs.composio.dev/).\n",
    "\n",
    "## Overview\n",
    "Composio is a comprehensive toolkit that provides:\n",
    "\n",
    "- **100+ Integrations:** Connect to popular applications like GitHub, Gmail, Slack, HubSpot, Salesforce, and more\n",
    "- **Universal API:** One interface to manage all your external app interactions\n",
    "- **Authentication Management:** Handle OAuth, API keys, and other auth methods automatically\n",
    "- **Execution Environment:** Secure sandboxed execution of actions across different platforms\n",
    "- **Function Calling:** Native support for LLM function calling with proper schema validation"
   ]
  },
  {
   "cell_type": "markdown",
   "id": "0730d6a1-c893-4840-9817-5e5251676d5d",
   "metadata": {},
   "source": [
    "### Installation\n",
    "\n",
    "This toolkit lives in the `composio_langchain` package:"
   ]
  },
  {
   "cell_type": "code",
   "execution_count": null,
   "id": "652d6238-1f87-422a-b135-f5abbb8652fc",
   "metadata": {},
   "outputs": [],
   "source": [
    "%pip install -qU composio_langchain==0.8.0 langchain"
   ]
  },
  {
   "cell_type": "markdown",
   "id": "192a626b",
   "metadata": {},
   "source": [
    "You'll also need to set up your Composio API key. Get one from [platform.composio.dev](https://platform.composio.dev):"
   ]
  },
  {
   "cell_type": "code",
   "execution_count": null,
   "id": "2a2df115",
   "metadata": {},
   "outputs": [],
   "source": [
    "import os\n",
    "import getpass\n",
    "\n",
    "os.environ[\"COMPOSIO_API_KEY\"] = getpass.getpass(\"Enter your Composio API key: \")"
   ]
  },
  {
   "cell_type": "markdown",
   "id": "a38cde65-254d-4219-a441-068766c0d4b5",
   "metadata": {},
   "source": [
    "## Instantiation\n",
    "\n",
    "Now we can instantiate Composio:"
   ]
  },
  {
   "cell_type": "code",
   "execution_count": null,
   "id": "cb09c344-1836-4e0c-acf8-11d13ac1dbae",
   "metadata": {},
   "outputs": [],
   "source": [
    "from composio import Composio\n",
    "from composio_langchain import LangchainProvider\n",
    "\n",
    "composio = Composio(api_key=\"your_composio_api_key\", provider=LangchainProvider())"
   ]
  },
  {
   "cell_type": "markdown",
   "id": "0fffa13f",
   "metadata": {},
   "source": [
    "## Connect your Account\n",
    "\n",
    "\n",
    "We will be building an AI agent that can fetch your emails. For that you will need to connect your gmail account through Composio. You can do this on the composio platform or you can run the following code snippet:"
   ]
  },
  {
   "cell_type": "code",
   "execution_count": null,
   "id": "e6535bdb",
   "metadata": {},
   "outputs": [],
   "source": [
    "auth_config = composio.auth_configs.create(\n",
    "    toolkit=\"gmail\",\n",
    "    options={\n",
    "        \"type\": \"use_composio_managed_auth\",\n",
    "    },\n",
    ")\n",
    "print(auth_config.id)\n",
    "user_id = \"default\"\n",
    "connection_request = composio.connected_accounts.initiate(\n",
    "    user_id=user_id,\n",
    "    auth_config_id=auth_config.id,\n",
    "    config={\"auth_scheme\": \"OAUTH2\"},  # type: ignore\n",
    ")\n",
    "print(f\"Redirect URL: {connection_request.redirect_url}\")\n",
    "connected_account = connection_request.wait_for_connection()\n",
    "\n",
    "if connected_account.status == \"ACTIVE\":\n",
    "    print(\n",
    "        f\"Account connected successfully, Connected account ID: {connected_account.id}\"\n",
    "    )\n",
    "else:\n",
    "    print(f\"Failed to connect account, status: {connected_account.status}\")"
   ]
  },
  {
   "cell_type": "markdown",
   "id": "5c5f2839-4020-424e-9fc9-07777eede442",
   "metadata": {},
   "source": [
    "## Tools\n",
    "\n",
    "View available tools:"
   ]
  },
  {
   "cell_type": "code",
   "execution_count": null,
   "id": "51a60dbe-9f2e-4e04-bb62-23968f17164a",
   "metadata": {},
   "outputs": [],
   "source": [
    "tools_list = composio.tools.get(user_id=\"default\", toolkits=[\"GMAIL\"])"
   ]
  },
  {
   "cell_type": "markdown",
   "id": "d11245ad-3661-4405-8558-1188896347ec",
   "metadata": {},
   "source": [
    "Here's a [list](https://docs.composio.dev/toolkits/introduction) of all the toolkits supported by Composio"
   ]
  },
  {
   "cell_type": "markdown",
   "id": "dfe8aad4-8626-4330-98a9-7ea1ca5d2e0e",
   "metadata": {},
   "source": [
    "## Use within an agent"
   ]
  },
  {
   "cell_type": "code",
   "execution_count": null,
   "id": "310bf18e-6c9a-4072-b86e-47bc1fcca29d",
   "metadata": {},
   "outputs": [],
   "source": [
    "from langchain.chat_models import init_chat_model\n",
    "\n",
    "model = init_chat_model(\"gpt-4.1\")\n",
    "\n",
    "model_with_tools = model.bind_tools(tools_list)"
   ]
  },
  {
   "cell_type": "code",
   "execution_count": null,
   "id": "23e11cc9-abd6-4855-a7eb-799f45ca01ae",
   "metadata": {},
   "outputs": [],
   "source": [
    "example_query = \"Fetch and summarize the latest emails in my inbox.\"\n",
    "\n",
    "result = model_with_tools.invoke(example_query)"
   ]
  },
  {
   "cell_type": "markdown",
   "id": "3a5bb5ca-c3ae-4a58-be67-2cd18574b9a3",
   "metadata": {},
   "source": [
    "## API reference\n",
    "\n",
    "For detailed documentation of all Composio features and configurations head to the [API reference](https://docs.composio.dev/api-reference/)."
   ]
  }
 ],
 "metadata": {
  "kernelspec": {
   "display_name": "langchain-monorepo",
   "language": "python",
   "name": "python3"
  },
  "language_info": {
   "codemirror_mode": {
    "name": "ipython",
    "version": 3
   },
   "file_extension": ".py",
   "mimetype": "text/x-python",
   "name": "python",
   "nbconvert_exporter": "python",
   "pygments_lexer": "ipython3",
   "version": "3.11.13"
  }
 },
 "nbformat": 4,
 "nbformat_minor": 5
}
