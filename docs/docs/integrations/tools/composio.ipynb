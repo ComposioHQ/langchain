{
 "cells": [
  {
   "cell_type": "raw",
   "id": "afaf8039",
   "metadata": {},
   "source": [
    "---\n",
    "sidebar_label: Composio\n",
    "---"
   ]
  },
  {
   "cell_type": "markdown",
   "id": "3e9b6e78",
   "metadata": {},
   "source": [
    "This will help you get started with the Composio. Composio enables your AI agents and LLMs to connect with 100+ external applications and services through a unified interface. For detailed documentation of all features and configurations, head to the [Composio Docs](https://docs.composio.dev/).\n",
    "\n",
    "## Overview\n",
    "Composio is a comprehensive toolkit that provides:\n",
    "\n",
    "- **100+ Integrations:** Connect to popular applications like GitHub, Gmail, Slack, HubSpot, Salesforce, and more\n",
    "- **Universal API:** One interface to manage all your external app interactions\n",
    "- **Authentication Management:** Handle OAuth, API keys, and other auth methods automatically\n",
    "- **Execution Environment:** Secure sandboxed execution of actions across different platforms\n",
    "- **Function Calling:** Native support for LLM function calling with proper schema validation"
   ]
  },
  {
   "cell_type": "markdown",
   "id": "0730d6a1-c893-4840-9817-5e5251676d5d",
   "metadata": {},
   "source": [
    "## Setup\n",
    "\n",
    "This toolkit lives in the `composio_langchain` package:"
   ]
  },
  {
   "cell_type": "code",
   "execution_count": 1,
   "id": "652d6238-1f87-422a-b135-f5abbb8652fc",
   "metadata": {},
   "outputs": [
    {
     "name": "stdout",
     "output_type": "stream",
     "text": [
      "\u001b[31mERROR: pip's dependency resolver does not currently take into account all the packages that are installed. This behaviour is the source of the following dependency conflicts.\n",
      "composio-babyagi 0.5.40 requires composio_core<=0.5.40,>=0.5.30, which is not installed.\n",
      "cdp-langchain 0.0.13 requires langchain-openai<0.3.0,>=0.2.4, but you have langchain-openai 0.3.28 which is incompatible.\n",
      "composio-crewai 0.7.1 requires composio_langchain<0.8.0,>=0.5.0, but you have composio-langchain 0.8.0 which is incompatible.\n",
      "composio-langgraph 0.5.35 requires composio-langchain<=0.5.35,>=0.5.30, but you have composio-langchain 0.8.0 which is incompatible.\n",
      "embedchain 0.1.125 requires langchain-openai<0.3.0,>=0.2.1, but you have langchain-openai 0.3.28 which is incompatible.\n",
      "embedchain 0.1.125 requires langsmith<0.2.0,>=0.1.17, but you have langsmith 0.4.7 which is incompatible.\n",
      "embedchain 0.1.125 requires tiktoken<0.8.0,>=0.7.0, but you have tiktoken 0.9.0 which is incompatible.\n",
      "langchain-community 0.3.3 requires langsmith<0.2.0,>=0.1.125, but you have langsmith 0.4.7 which is incompatible.\u001b[0m\u001b[31m\n",
      "\u001b[0m\n",
      "\u001b[1m[\u001b[0m\u001b[34;49mnotice\u001b[0m\u001b[1;39;49m]\u001b[0m\u001b[39;49m A new release of pip is available: \u001b[0m\u001b[31;49m24.3.1\u001b[0m\u001b[39;49m -> \u001b[0m\u001b[32;49m25.2\u001b[0m\n",
      "\u001b[1m[\u001b[0m\u001b[34;49mnotice\u001b[0m\u001b[1;39;49m]\u001b[0m\u001b[39;49m To update, run: \u001b[0m\u001b[32;49mpip install --upgrade pip\u001b[0m\n",
      "Note: you may need to restart the kernel to use updated packages.\n"
     ]
    }
   ],
   "source": [
    "%pip install -qU composio_langchain==0.8.0 langchain"
   ]
  },
  {
   "cell_type": "markdown",
   "id": "192a626b",
   "metadata": {},
   "source": [
    "You'll also need to set up your Composio API key. Get one from [platform.composio.dev](https://platform.composio.dev):"
   ]
  },
  {
   "cell_type": "code",
   "execution_count": 6,
   "id": "2a2df115",
   "metadata": {},
   "outputs": [],
   "source": [
    "import os\n",
    "import getpass\n",
    "\n",
    "os.environ[\"COMPOSIO_API_KEY\"] = getpass.getpass(\"Enter your Composio API key: \")\n",
    "os.environ[\"OPENAI_API_KEY\"] = getpass.getpass(\"Enter your OpenAI API key: \")"
   ]
  },
  {
   "cell_type": "markdown",
   "id": "a38cde65-254d-4219-a441-068766c0d4b5",
   "metadata": {},
   "source": [
    "## Instantiation\n",
    "\n",
    "Now we can instantiate Composio:"
   ]
  },
  {
   "cell_type": "code",
   "execution_count": 2,
   "id": "cb09c344-1836-4e0c-acf8-11d13ac1dbae",
   "metadata": {},
   "outputs": [],
   "source": [
    "from composio import Composio\n",
    "from composio_langchain import LangchainProvider\n",
    "\n",
    "composio = Composio(\n",
    "    api_key=os.environ[\"COMPOSIO_API_KEY\"], provider=LangchainProvider()\n",
    ")"
   ]
  },
  {
   "cell_type": "markdown",
   "id": "0fffa13f",
   "metadata": {},
   "source": [
    "## Connect your Account\n",
    "\n",
    "\n",
    "We will be building an AI agent that can fetch your emails. For that you will need to connect your gmail account through Composio. You can do this on the composio platform or you can run the following code snippet:"
   ]
  },
  {
   "cell_type": "code",
   "execution_count": null,
   "id": "e6535bdb",
   "metadata": {},
   "outputs": [],
   "source": [
    "auth_config = composio.auth_configs.create(\n",
    "    toolkit=\"gmail\",\n",
    "    options={\n",
    "        \"type\": \"use_composio_managed_auth\",\n",
    "    },\n",
    ")\n",
    "print(auth_config.id)\n",
    "user_id = \"default\"\n",
    "connection_request = composio.connected_accounts.initiate(\n",
    "    user_id=user_id,\n",
    "    auth_config_id=auth_config.id,\n",
    "    config={\"auth_scheme\": \"OAUTH2\"},  # type: ignore\n",
    ")\n",
    "print(f\"Redirect URL: {connection_request.redirect_url}\")\n",
    "connected_account = connection_request.wait_for_connection()\n",
    "\n",
    "if connected_account.status == \"ACTIVE\":\n",
    "    print(\n",
    "        f\"Account connected successfully, Connected account ID: {connected_account.id}\"\n",
    "    )\n",
    "else:\n",
    "    print(f\"Failed to connect account, status: {connected_account.status}\")"
   ]
  },
  {
   "cell_type": "markdown",
   "id": "5c5f2839-4020-424e-9fc9-07777eede442",
   "metadata": {},
   "source": [
    "## Invocation\n",
    "\n",
    "View available tools:"
   ]
  },
  {
   "cell_type": "code",
   "execution_count": 4,
   "id": "51a60dbe-9f2e-4e04-bb62-23968f17164a",
   "metadata": {},
   "outputs": [],
   "source": [
    "tools_list = composio.tools.get(user_id=\"default\", toolkits=[\"GMAIL\"])"
   ]
  },
  {
   "cell_type": "markdown",
   "id": "d11245ad-3661-4405-8558-1188896347ec",
   "metadata": {},
   "source": [
    "Here's a [list](https://docs.composio.dev/toolkits/introduction) of all the toolkits supported by Composio"
   ]
  },
  {
   "cell_type": "markdown",
   "id": "dfe8aad4-8626-4330-98a9-7ea1ca5d2e0e",
   "metadata": {},
   "source": [
    "## Use within an agent"
   ]
  },
  {
   "cell_type": "code",
   "execution_count": 7,
   "id": "310bf18e-6c9a-4072-b86e-47bc1fcca29d",
   "metadata": {},
   "outputs": [],
   "source": [
    "from langchain.chat_models import init_chat_model\n",
    "\n",
    "model = init_chat_model(\"gpt-4.1\")\n",
    "\n",
    "model_with_tools = model.bind_tools(tools_list)"
   ]
  },
  {
   "cell_type": "code",
   "execution_count": null,
   "id": "23e11cc9-abd6-4855-a7eb-799f45ca01ae",
   "metadata": {},
   "outputs": [],
   "source": [
    "example_query = \"Fetch and summarize the latest emails in my inbox.\"\n",
    "\n",
    "result = model_with_tools.invoke(example_query)\n",
    "\n",
    "print(result)"
   ]
  },
  {
   "cell_type": "markdown",
   "id": "3a5bb5ca-c3ae-4a58-be67-2cd18574b9a3",
   "metadata": {},
   "source": [
    "## API reference\n",
    "\n",
    "For detailed documentation of all Composio features and configurations head to the [API reference](https://docs.composio.dev/)."
   ]
  }
 ],
 "metadata": {
  "kernelspec": {
   "display_name": "Python 3",
   "language": "python",
   "name": "python3"
  },
  "language_info": {
   "codemirror_mode": {
    "name": "ipython",
    "version": 3
   },
   "file_extension": ".py",
   "mimetype": "text/x-python",
   "name": "python",
   "nbconvert_exporter": "python",
   "pygments_lexer": "ipython3",
   "version": "3.10.0"
  }
 },
 "nbformat": 4,
 "nbformat_minor": 5
}
